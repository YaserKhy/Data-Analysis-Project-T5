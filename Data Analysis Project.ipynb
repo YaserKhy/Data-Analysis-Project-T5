{
 "cells": [
  {
   "cell_type": "markdown",
   "id": "1bafc79b-a447-49f9-914f-6dba9187c16c",
   "metadata": {},
   "source": [
    "# Data Analysis Project"
   ]
  },
  {
   "cell_type": "markdown",
   "id": "c1c591fc-348b-467f-97ed-2a40140d60de",
   "metadata": {},
   "source": [
    "### By Rami Abdulmalik & Yaser Alkhayyat"
   ]
  },
  {
   "cell_type": "markdown",
   "id": "2dcf0a3c",
   "metadata": {},
   "source": [
    "[View Dataset](https://www.kaggle.com/datasets/asaniczka/1-3m-linkedin-jobs-and-skills-2024?select=linkedin_job_postings.csv)"
   ]
  },
  {
   "cell_type": "code",
   "execution_count": 1,
   "id": "90c23700-8116-4f32-9f9d-9ddeadcf25ad",
   "metadata": {},
   "outputs": [],
   "source": [
    "# import important libraries\n",
    "import pandas as pd"
   ]
  },
  {
   "cell_type": "markdown",
   "id": "6c1e3ab5",
   "metadata": {},
   "source": [
    "### 1. Data Loading and Initial Exploration:\n",
    "- Load the selected dataset into your preferred data analysis environment.\n",
    "- Explore the structure of the dataset (number of rows and columns, data types, etc.).\n",
    "- Examine the first few rows of the dataset to understand its contents.\n"
   ]
  },
  {
   "cell_type": "markdown",
   "id": "b4f14127-665e-40fe-8073-d62b0d1b0467",
   "metadata": {},
   "source": [
    "#### Data Wrangling"
   ]
  },
  {
   "cell_type": "markdown",
   "id": "341ad97f",
   "metadata": {},
   "source": [
    "We start by loading a sample from the original dataset as our dataframe due to large size problems, then save that sample in a csv file.\n",
    "\n",
    "This process is done only once and is provided just for preview purposes."
   ]
  },
  {
   "cell_type": "code",
   "execution_count": null,
   "id": "0a9ac5c5-5dbb-4d8d-af9b-2bf81f3b6db2",
   "metadata": {},
   "outputs": [],
   "source": [
    "# # loading the dataset\n",
    "# df = pd.read_csv('./data/linkedin_job_postings.csv').sample(250_000)\n",
    "# df.to_csv('./data/linkedin_job_postings_minimized.csv')"
   ]
  },
  {
   "cell_type": "markdown",
   "id": "ffc1d839",
   "metadata": {},
   "source": [
    "Reading the dataset using `pd.read_csv()` and removing the old indicies."
   ]
  },
  {
   "cell_type": "code",
   "execution_count": 2,
   "id": "56b2242d",
   "metadata": {},
   "outputs": [],
   "source": [
    "df = pd.read_csv('./data/linkedin_job_postings_minimized.csv')\n",
    "df.drop(columns=['Unnamed: 0'],inplace=True)\n",
    "df = df.sort_index()"
   ]
  },
  {
   "cell_type": "markdown",
   "id": "79a730f2",
   "metadata": {},
   "source": [
    "Using `df.info()` and `df.head()` , we can collect some information about the dataset columns and data types."
   ]
  },
  {
   "cell_type": "code",
   "execution_count": 3,
   "id": "a975eed3",
   "metadata": {},
   "outputs": [
    {
     "name": "stdout",
     "output_type": "stream",
     "text": [
      "<class 'pandas.core.frame.DataFrame'>\n",
      "RangeIndex: 250000 entries, 0 to 249999\n",
      "Data columns (total 14 columns):\n",
      " #   Column               Non-Null Count   Dtype \n",
      "---  ------               --------------   ----- \n",
      " 0   job_link             250000 non-null  object\n",
      " 1   last_processed_time  250000 non-null  object\n",
      " 2   got_summary          250000 non-null  object\n",
      " 3   got_ner              250000 non-null  object\n",
      " 4   is_being_worked      250000 non-null  object\n",
      " 5   job_title            250000 non-null  object\n",
      " 6   company              249999 non-null  object\n",
      " 7   job_location         249996 non-null  object\n",
      " 8   first_seen           250000 non-null  object\n",
      " 9   search_city          250000 non-null  object\n",
      " 10  search_country       250000 non-null  object\n",
      " 11  search_position      250000 non-null  object\n",
      " 12  job_level            250000 non-null  object\n",
      " 13  job_type             250000 non-null  object\n",
      "dtypes: object(14)\n",
      "memory usage: 26.7+ MB\n"
     ]
    }
   ],
   "source": [
    "df.info()"
   ]
  },
  {
   "cell_type": "code",
   "execution_count": 4,
   "id": "8f71c736",
   "metadata": {},
   "outputs": [
    {
     "data": {
      "text/html": [
       "<div>\n",
       "<style scoped>\n",
       "    .dataframe tbody tr th:only-of-type {\n",
       "        vertical-align: middle;\n",
       "    }\n",
       "\n",
       "    .dataframe tbody tr th {\n",
       "        vertical-align: top;\n",
       "    }\n",
       "\n",
       "    .dataframe thead th {\n",
       "        text-align: right;\n",
       "    }\n",
       "</style>\n",
       "<table border=\"1\" class=\"dataframe\">\n",
       "  <thead>\n",
       "    <tr style=\"text-align: right;\">\n",
       "      <th></th>\n",
       "      <th>job_link</th>\n",
       "      <th>last_processed_time</th>\n",
       "      <th>got_summary</th>\n",
       "      <th>got_ner</th>\n",
       "      <th>is_being_worked</th>\n",
       "      <th>job_title</th>\n",
       "      <th>company</th>\n",
       "      <th>job_location</th>\n",
       "      <th>first_seen</th>\n",
       "      <th>search_city</th>\n",
       "      <th>search_country</th>\n",
       "      <th>search_position</th>\n",
       "      <th>job_level</th>\n",
       "      <th>job_type</th>\n",
       "    </tr>\n",
       "  </thead>\n",
       "  <tbody>\n",
       "    <tr>\n",
       "      <th>0</th>\n",
       "      <td>https://www.linkedin.com/jobs/view/freshman-ba...</td>\n",
       "      <td>2024-01-21 02:28:28.626152+00</td>\n",
       "      <td>t</td>\n",
       "      <td>t</td>\n",
       "      <td>f</td>\n",
       "      <td>Freshman Basketball Coach</td>\n",
       "      <td>Bridgeport Public Schools</td>\n",
       "      <td>Bridgeport, CT</td>\n",
       "      <td>2024-01-14</td>\n",
       "      <td>Stamford</td>\n",
       "      <td>United States</td>\n",
       "      <td>Head Coach</td>\n",
       "      <td>Mid senior</td>\n",
       "      <td>Onsite</td>\n",
       "    </tr>\n",
       "    <tr>\n",
       "      <th>1</th>\n",
       "      <td>https://www.linkedin.com/jobs/view/engineering...</td>\n",
       "      <td>2024-01-19 09:45:09.215838+00</td>\n",
       "      <td>t</td>\n",
       "      <td>t</td>\n",
       "      <td>f</td>\n",
       "      <td>ENGINEERING TECHNICIAN 4 - Construction</td>\n",
       "      <td>State of Nevada Division of Human Resource Man...</td>\n",
       "      <td>Henderson, NV</td>\n",
       "      <td>2024-01-13</td>\n",
       "      <td>Las Vegas</td>\n",
       "      <td>United States</td>\n",
       "      <td>Documentation Engineer</td>\n",
       "      <td>Associate</td>\n",
       "      <td>Onsite</td>\n",
       "    </tr>\n",
       "    <tr>\n",
       "      <th>2</th>\n",
       "      <td>https://www.linkedin.com/jobs/view/monitoring-...</td>\n",
       "      <td>2024-01-19 09:45:09.215838+00</td>\n",
       "      <td>f</td>\n",
       "      <td>f</td>\n",
       "      <td>f</td>\n",
       "      <td>Monitoring Systems Engineer, Senior with Secur...</td>\n",
       "      <td>ClearanceJobs</td>\n",
       "      <td>San Diego, CA</td>\n",
       "      <td>2024-01-17</td>\n",
       "      <td>Chula Vista</td>\n",
       "      <td>United States</td>\n",
       "      <td>Tool Grinder Ii</td>\n",
       "      <td>Mid senior</td>\n",
       "      <td>Onsite</td>\n",
       "    </tr>\n",
       "    <tr>\n",
       "      <th>3</th>\n",
       "      <td>https://ca.linkedin.com/jobs/view/senior-instr...</td>\n",
       "      <td>2024-01-20 13:23:47.582763+00</td>\n",
       "      <td>t</td>\n",
       "      <td>t</td>\n",
       "      <td>f</td>\n",
       "      <td>Senior Instrumentation &amp; Controls Engineer, Water</td>\n",
       "      <td>Stantec</td>\n",
       "      <td>Kelowna, British Columbia, Canada</td>\n",
       "      <td>2024-01-14</td>\n",
       "      <td>Kelowna</td>\n",
       "      <td>Canada</td>\n",
       "      <td>Controls Designer</td>\n",
       "      <td>Mid senior</td>\n",
       "      <td>Onsite</td>\n",
       "    </tr>\n",
       "    <tr>\n",
       "      <th>4</th>\n",
       "      <td>https://www.linkedin.com/jobs/view/academic-pr...</td>\n",
       "      <td>2024-01-19 12:29:39.707367+00</td>\n",
       "      <td>t</td>\n",
       "      <td>t</td>\n",
       "      <td>f</td>\n",
       "      <td>Academic Professional Track (Non-Tenure): Prof...</td>\n",
       "      <td>Texas A&amp;M University</td>\n",
       "      <td>College Station, TX</td>\n",
       "      <td>2024-01-14</td>\n",
       "      <td>College Park</td>\n",
       "      <td>United States</td>\n",
       "      <td>Educational Resource Coordinator</td>\n",
       "      <td>Mid senior</td>\n",
       "      <td>Onsite</td>\n",
       "    </tr>\n",
       "  </tbody>\n",
       "</table>\n",
       "</div>"
      ],
      "text/plain": [
       "                                            job_link  \\\n",
       "0  https://www.linkedin.com/jobs/view/freshman-ba...   \n",
       "1  https://www.linkedin.com/jobs/view/engineering...   \n",
       "2  https://www.linkedin.com/jobs/view/monitoring-...   \n",
       "3  https://ca.linkedin.com/jobs/view/senior-instr...   \n",
       "4  https://www.linkedin.com/jobs/view/academic-pr...   \n",
       "\n",
       "             last_processed_time got_summary got_ner is_being_worked  \\\n",
       "0  2024-01-21 02:28:28.626152+00           t       t               f   \n",
       "1  2024-01-19 09:45:09.215838+00           t       t               f   \n",
       "2  2024-01-19 09:45:09.215838+00           f       f               f   \n",
       "3  2024-01-20 13:23:47.582763+00           t       t               f   \n",
       "4  2024-01-19 12:29:39.707367+00           t       t               f   \n",
       "\n",
       "                                           job_title  \\\n",
       "0                          Freshman Basketball Coach   \n",
       "1            ENGINEERING TECHNICIAN 4 - Construction   \n",
       "2  Monitoring Systems Engineer, Senior with Secur...   \n",
       "3  Senior Instrumentation & Controls Engineer, Water   \n",
       "4  Academic Professional Track (Non-Tenure): Prof...   \n",
       "\n",
       "                                             company  \\\n",
       "0                          Bridgeport Public Schools   \n",
       "1  State of Nevada Division of Human Resource Man...   \n",
       "2                                      ClearanceJobs   \n",
       "3                                            Stantec   \n",
       "4                               Texas A&M University   \n",
       "\n",
       "                        job_location  first_seen   search_city search_country  \\\n",
       "0                     Bridgeport, CT  2024-01-14      Stamford  United States   \n",
       "1                      Henderson, NV  2024-01-13     Las Vegas  United States   \n",
       "2                      San Diego, CA  2024-01-17   Chula Vista  United States   \n",
       "3  Kelowna, British Columbia, Canada  2024-01-14       Kelowna         Canada   \n",
       "4                College Station, TX  2024-01-14  College Park  United States   \n",
       "\n",
       "                    search_position   job_level job_type  \n",
       "0                        Head Coach  Mid senior   Onsite  \n",
       "1            Documentation Engineer   Associate   Onsite  \n",
       "2                   Tool Grinder Ii  Mid senior   Onsite  \n",
       "3                 Controls Designer  Mid senior   Onsite  \n",
       "4  Educational Resource Coordinator  Mid senior   Onsite  "
      ]
     },
     "execution_count": 4,
     "metadata": {},
     "output_type": "execute_result"
    }
   ],
   "source": [
    "df.head()"
   ]
  },
  {
   "cell_type": "markdown",
   "id": "99dfbdef",
   "metadata": {},
   "source": [
    "##### Data Transformation"
   ]
  },
  {
   "cell_type": "markdown",
   "id": "cb4bb773",
   "metadata": {},
   "source": [
    "change dates columns data types from object to datetime using `pd.to_datetime()`"
   ]
  },
  {
   "cell_type": "code",
   "execution_count": 5,
   "id": "7699052f",
   "metadata": {},
   "outputs": [
    {
     "name": "stdout",
     "output_type": "stream",
     "text": [
      "<class 'pandas.core.frame.DataFrame'>\n",
      "RangeIndex: 250000 entries, 0 to 249999\n",
      "Data columns (total 14 columns):\n",
      " #   Column               Non-Null Count   Dtype              \n",
      "---  ------               --------------   -----              \n",
      " 0   job_link             250000 non-null  object             \n",
      " 1   last_processed_time  250000 non-null  datetime64[ns, UTC]\n",
      " 2   got_summary          250000 non-null  object             \n",
      " 3   got_ner              250000 non-null  object             \n",
      " 4   is_being_worked      250000 non-null  object             \n",
      " 5   job_title            250000 non-null  object             \n",
      " 6   company              249999 non-null  object             \n",
      " 7   job_location         249996 non-null  object             \n",
      " 8   first_seen           250000 non-null  datetime64[ns]     \n",
      " 9   search_city          250000 non-null  object             \n",
      " 10  search_country       250000 non-null  object             \n",
      " 11  search_position      250000 non-null  object             \n",
      " 12  job_level            250000 non-null  object             \n",
      " 13  job_type             250000 non-null  object             \n",
      "dtypes: datetime64[ns, UTC](1), datetime64[ns](1), object(12)\n",
      "memory usage: 26.7+ MB\n"
     ]
    }
   ],
   "source": [
    "df['last_processed_time'] = pd.to_datetime(df['last_processed_time'])\n",
    "df['first_seen'] = pd.to_datetime(df['first_seen'])\n",
    "\n",
    "df.info()"
   ]
  },
  {
   "cell_type": "markdown",
   "id": "28ae735e",
   "metadata": {},
   "source": [
    "Also, The column `is_being_worked` should be boolean."
   ]
  },
  {
   "cell_type": "code",
   "execution_count": 6,
   "id": "fbef3125",
   "metadata": {},
   "outputs": [
    {
     "data": {
      "text/plain": [
       "is_being_worked\n",
       "f    249730\n",
       "t       270\n",
       "Name: count, dtype: int64"
      ]
     },
     "execution_count": 6,
     "metadata": {},
     "output_type": "execute_result"
    }
   ],
   "source": [
    "df['is_being_worked'].value_counts()"
   ]
  },
  {
   "cell_type": "markdown",
   "id": "04133055",
   "metadata": {},
   "source": [
    "Replacing string (object) values with boolean values."
   ]
  },
  {
   "cell_type": "code",
   "execution_count": 7,
   "id": "2c77708a",
   "metadata": {},
   "outputs": [],
   "source": [
    "df['is_being_worked'] = df['is_being_worked'].map({'t':True, 'f':False})"
   ]
  },
  {
   "cell_type": "code",
   "execution_count": 8,
   "id": "bebd9dea",
   "metadata": {},
   "outputs": [
    {
     "data": {
      "text/plain": [
       "dtype('bool')"
      ]
     },
     "execution_count": 8,
     "metadata": {},
     "output_type": "execute_result"
    }
   ],
   "source": [
    "df['is_being_worked'].dtype"
   ]
  },
  {
   "cell_type": "code",
   "execution_count": 9,
   "id": "5c9e83f1",
   "metadata": {},
   "outputs": [
    {
     "data": {
      "text/plain": [
       "is_being_worked\n",
       "False    249730\n",
       "True        270\n",
       "Name: count, dtype: int64"
      ]
     },
     "execution_count": 9,
     "metadata": {},
     "output_type": "execute_result"
    }
   ],
   "source": [
    "df['is_being_worked'].value_counts()"
   ]
  },
  {
   "cell_type": "markdown",
   "id": "090b061e",
   "metadata": {},
   "source": [
    "##### Data Cleaning"
   ]
  },
  {
   "cell_type": "markdown",
   "id": "92a736ad",
   "metadata": {},
   "source": [
    "Using `df.info()` we notice the following :\n",
    "- 1 job has null value in `company` column.\n",
    "- 4 jobs has null values in `job_location` column. "
   ]
  },
  {
   "cell_type": "code",
   "execution_count": 10,
   "id": "929e440d",
   "metadata": {},
   "outputs": [
    {
     "name": "stdout",
     "output_type": "stream",
     "text": [
      "<class 'pandas.core.frame.DataFrame'>\n",
      "RangeIndex: 250000 entries, 0 to 249999\n",
      "Data columns (total 14 columns):\n",
      " #   Column               Non-Null Count   Dtype              \n",
      "---  ------               --------------   -----              \n",
      " 0   job_link             250000 non-null  object             \n",
      " 1   last_processed_time  250000 non-null  datetime64[ns, UTC]\n",
      " 2   got_summary          250000 non-null  object             \n",
      " 3   got_ner              250000 non-null  object             \n",
      " 4   is_being_worked      250000 non-null  bool               \n",
      " 5   job_title            250000 non-null  object             \n",
      " 6   company              249999 non-null  object             \n",
      " 7   job_location         249996 non-null  object             \n",
      " 8   first_seen           250000 non-null  datetime64[ns]     \n",
      " 9   search_city          250000 non-null  object             \n",
      " 10  search_country       250000 non-null  object             \n",
      " 11  search_position      250000 non-null  object             \n",
      " 12  job_level            250000 non-null  object             \n",
      " 13  job_type             250000 non-null  object             \n",
      "dtypes: bool(1), datetime64[ns, UTC](1), datetime64[ns](1), object(11)\n",
      "memory usage: 25.0+ MB\n"
     ]
    }
   ],
   "source": [
    "df.info()"
   ]
  },
  {
   "cell_type": "markdown",
   "id": "16dbc89c",
   "metadata": {},
   "source": [
    "Show all rows with null value in `company` column."
   ]
  },
  {
   "cell_type": "code",
   "execution_count": 11,
   "id": "611a6444",
   "metadata": {},
   "outputs": [
    {
     "data": {
      "text/html": [
       "<div>\n",
       "<style scoped>\n",
       "    .dataframe tbody tr th:only-of-type {\n",
       "        vertical-align: middle;\n",
       "    }\n",
       "\n",
       "    .dataframe tbody tr th {\n",
       "        vertical-align: top;\n",
       "    }\n",
       "\n",
       "    .dataframe thead th {\n",
       "        text-align: right;\n",
       "    }\n",
       "</style>\n",
       "<table border=\"1\" class=\"dataframe\">\n",
       "  <thead>\n",
       "    <tr style=\"text-align: right;\">\n",
       "      <th></th>\n",
       "      <th>job_link</th>\n",
       "      <th>last_processed_time</th>\n",
       "      <th>got_summary</th>\n",
       "      <th>got_ner</th>\n",
       "      <th>is_being_worked</th>\n",
       "      <th>job_title</th>\n",
       "      <th>company</th>\n",
       "      <th>job_location</th>\n",
       "      <th>first_seen</th>\n",
       "      <th>search_city</th>\n",
       "      <th>search_country</th>\n",
       "      <th>search_position</th>\n",
       "      <th>job_level</th>\n",
       "      <th>job_type</th>\n",
       "    </tr>\n",
       "  </thead>\n",
       "  <tbody>\n",
       "    <tr>\n",
       "      <th>196857</th>\n",
       "      <td>https://www.linkedin.com/jobs/view/paralegal-a...</td>\n",
       "      <td>2024-01-19 09:45:09.215838+00:00</td>\n",
       "      <td>t</td>\n",
       "      <td>t</td>\n",
       "      <td>False</td>\n",
       "      <td>Paralegal Assistant</td>\n",
       "      <td>NaN</td>\n",
       "      <td>Atlanta, GA</td>\n",
       "      <td>2024-01-13</td>\n",
       "      <td>Atlanta</td>\n",
       "      <td>United States</td>\n",
       "      <td>Clerk General</td>\n",
       "      <td>Associate</td>\n",
       "      <td>Onsite</td>\n",
       "    </tr>\n",
       "  </tbody>\n",
       "</table>\n",
       "</div>"
      ],
      "text/plain": [
       "                                                 job_link  \\\n",
       "196857  https://www.linkedin.com/jobs/view/paralegal-a...   \n",
       "\n",
       "                    last_processed_time got_summary got_ner  is_being_worked  \\\n",
       "196857 2024-01-19 09:45:09.215838+00:00           t       t            False   \n",
       "\n",
       "                  job_title company job_location first_seen search_city  \\\n",
       "196857  Paralegal Assistant     NaN  Atlanta, GA 2024-01-13     Atlanta   \n",
       "\n",
       "       search_country search_position  job_level job_type  \n",
       "196857  United States   Clerk General  Associate   Onsite  "
      ]
     },
     "execution_count": 11,
     "metadata": {},
     "output_type": "execute_result"
    }
   ],
   "source": [
    "df[df['company'].isnull()]"
   ]
  },
  {
   "cell_type": "markdown",
   "id": "2957b168",
   "metadata": {},
   "source": [
    "Best replace for null categorical data is the value with most frequent occurance or **the mode**.\\\n",
    "Using `.value_counts()` , we browse all the companies with the same location and position as the job with the null value in `company`. "
   ]
  },
  {
   "cell_type": "code",
   "execution_count": 12,
   "id": "e1eb7e7b",
   "metadata": {},
   "outputs": [
    {
     "data": {
      "text/plain": [
       "company\n",
       "Stars and Strikes Family Entertainment Centers    1\n",
       "Crestline Hotels & Resorts                        1\n",
       "Name: count, dtype: int64"
      ]
     },
     "execution_count": 12,
     "metadata": {},
     "output_type": "execute_result"
    }
   ],
   "source": [
    "df[(df['job_location']=='Atlanta, GA') & (df['search_position']=='Clerk General')]['company'].value_counts()"
   ]
  },
  {
   "cell_type": "markdown",
   "id": "f2a6d34a",
   "metadata": {},
   "source": [
    "There is no mode for the specified criteria. So, we must delete that row with null value using `df.dropna()`"
   ]
  },
  {
   "cell_type": "code",
   "execution_count": 13,
   "id": "fa04f452",
   "metadata": {},
   "outputs": [],
   "source": [
    "df = df.dropna(subset=['company'])"
   ]
  },
  {
   "cell_type": "code",
   "execution_count": 14,
   "id": "0c2f4a08",
   "metadata": {},
   "outputs": [
    {
     "name": "stdout",
     "output_type": "stream",
     "text": [
      "<class 'pandas.core.frame.DataFrame'>\n",
      "Index: 249999 entries, 0 to 249999\n",
      "Data columns (total 14 columns):\n",
      " #   Column               Non-Null Count   Dtype              \n",
      "---  ------               --------------   -----              \n",
      " 0   job_link             249999 non-null  object             \n",
      " 1   last_processed_time  249999 non-null  datetime64[ns, UTC]\n",
      " 2   got_summary          249999 non-null  object             \n",
      " 3   got_ner              249999 non-null  object             \n",
      " 4   is_being_worked      249999 non-null  bool               \n",
      " 5   job_title            249999 non-null  object             \n",
      " 6   company              249999 non-null  object             \n",
      " 7   job_location         249995 non-null  object             \n",
      " 8   first_seen           249999 non-null  datetime64[ns]     \n",
      " 9   search_city          249999 non-null  object             \n",
      " 10  search_country       249999 non-null  object             \n",
      " 11  search_position      249999 non-null  object             \n",
      " 12  job_level            249999 non-null  object             \n",
      " 13  job_type             249999 non-null  object             \n",
      "dtypes: bool(1), datetime64[ns, UTC](1), datetime64[ns](1), object(11)\n",
      "memory usage: 26.9+ MB\n"
     ]
    }
   ],
   "source": [
    "df.info()"
   ]
  },
  {
   "cell_type": "markdown",
   "id": "4fdcd51e",
   "metadata": {},
   "source": [
    "Show all rows with null value in `job_location` column."
   ]
  },
  {
   "cell_type": "code",
   "execution_count": 15,
   "id": "dac9a1ae",
   "metadata": {},
   "outputs": [
    {
     "data": {
      "text/html": [
       "<div>\n",
       "<style scoped>\n",
       "    .dataframe tbody tr th:only-of-type {\n",
       "        vertical-align: middle;\n",
       "    }\n",
       "\n",
       "    .dataframe tbody tr th {\n",
       "        vertical-align: top;\n",
       "    }\n",
       "\n",
       "    .dataframe thead th {\n",
       "        text-align: right;\n",
       "    }\n",
       "</style>\n",
       "<table border=\"1\" class=\"dataframe\">\n",
       "  <thead>\n",
       "    <tr style=\"text-align: right;\">\n",
       "      <th></th>\n",
       "      <th>job_link</th>\n",
       "      <th>last_processed_time</th>\n",
       "      <th>got_summary</th>\n",
       "      <th>got_ner</th>\n",
       "      <th>is_being_worked</th>\n",
       "      <th>job_title</th>\n",
       "      <th>company</th>\n",
       "      <th>job_location</th>\n",
       "      <th>first_seen</th>\n",
       "      <th>search_city</th>\n",
       "      <th>search_country</th>\n",
       "      <th>search_position</th>\n",
       "      <th>job_level</th>\n",
       "      <th>job_type</th>\n",
       "    </tr>\n",
       "  </thead>\n",
       "  <tbody>\n",
       "    <tr>\n",
       "      <th>21503</th>\n",
       "      <td>https://www.linkedin.com/jobs/view/research-sc...</td>\n",
       "      <td>2024-01-19 09:45:09.215838+00:00</td>\n",
       "      <td>t</td>\n",
       "      <td>t</td>\n",
       "      <td>False</td>\n",
       "      <td>Research Scientist I</td>\n",
       "      <td>Boys Town National Research Hospital</td>\n",
       "      <td>NaN</td>\n",
       "      <td>2024-01-12</td>\n",
       "      <td>Nebraska</td>\n",
       "      <td>United States</td>\n",
       "      <td>Chemist</td>\n",
       "      <td>Mid senior</td>\n",
       "      <td>Onsite</td>\n",
       "    </tr>\n",
       "    <tr>\n",
       "      <th>49707</th>\n",
       "      <td>https://www.linkedin.com/jobs/view/travel-rn-c...</td>\n",
       "      <td>2024-01-21 05:44:29.161221+00:00</td>\n",
       "      <td>t</td>\n",
       "      <td>t</td>\n",
       "      <td>False</td>\n",
       "      <td>Travel RN - CVPICU</td>\n",
       "      <td>TactStaff</td>\n",
       "      <td>NaN</td>\n",
       "      <td>2024-01-14</td>\n",
       "      <td>West Memphis</td>\n",
       "      <td>United States</td>\n",
       "      <td>Recruiter</td>\n",
       "      <td>Mid senior</td>\n",
       "      <td>Onsite</td>\n",
       "    </tr>\n",
       "    <tr>\n",
       "      <th>168488</th>\n",
       "      <td>https://uk.linkedin.com/jobs/view/recruitment-...</td>\n",
       "      <td>2024-01-20 16:30:08.517081+00:00</td>\n",
       "      <td>t</td>\n",
       "      <td>t</td>\n",
       "      <td>False</td>\n",
       "      <td>Recruitment Resourcer</td>\n",
       "      <td>Adeline Search</td>\n",
       "      <td>NaN</td>\n",
       "      <td>2024-01-14</td>\n",
       "      <td>Warrington</td>\n",
       "      <td>United Kingdom</td>\n",
       "      <td>Recruiter</td>\n",
       "      <td>Associate</td>\n",
       "      <td>Onsite</td>\n",
       "    </tr>\n",
       "    <tr>\n",
       "      <th>208425</th>\n",
       "      <td>https://www.linkedin.com/jobs/view/controls-en...</td>\n",
       "      <td>2024-01-19 09:45:09.215838+00:00</td>\n",
       "      <td>t</td>\n",
       "      <td>t</td>\n",
       "      <td>False</td>\n",
       "      <td>Controls Engineer</td>\n",
       "      <td>Gables Search Group</td>\n",
       "      <td>NaN</td>\n",
       "      <td>2024-01-13</td>\n",
       "      <td>New Albany</td>\n",
       "      <td>United States</td>\n",
       "      <td>Controls Designer</td>\n",
       "      <td>Mid senior</td>\n",
       "      <td>Onsite</td>\n",
       "    </tr>\n",
       "  </tbody>\n",
       "</table>\n",
       "</div>"
      ],
      "text/plain": [
       "                                                 job_link  \\\n",
       "21503   https://www.linkedin.com/jobs/view/research-sc...   \n",
       "49707   https://www.linkedin.com/jobs/view/travel-rn-c...   \n",
       "168488  https://uk.linkedin.com/jobs/view/recruitment-...   \n",
       "208425  https://www.linkedin.com/jobs/view/controls-en...   \n",
       "\n",
       "                    last_processed_time got_summary got_ner  is_being_worked  \\\n",
       "21503  2024-01-19 09:45:09.215838+00:00           t       t            False   \n",
       "49707  2024-01-21 05:44:29.161221+00:00           t       t            False   \n",
       "168488 2024-01-20 16:30:08.517081+00:00           t       t            False   \n",
       "208425 2024-01-19 09:45:09.215838+00:00           t       t            False   \n",
       "\n",
       "                    job_title                               company  \\\n",
       "21503    Research Scientist I  Boys Town National Research Hospital   \n",
       "49707      Travel RN - CVPICU                             TactStaff   \n",
       "168488  Recruitment Resourcer                        Adeline Search   \n",
       "208425      Controls Engineer                   Gables Search Group   \n",
       "\n",
       "       job_location first_seen   search_city  search_country  \\\n",
       "21503           NaN 2024-01-12      Nebraska   United States   \n",
       "49707           NaN 2024-01-14  West Memphis   United States   \n",
       "168488          NaN 2024-01-14    Warrington  United Kingdom   \n",
       "208425          NaN 2024-01-13    New Albany   United States   \n",
       "\n",
       "          search_position   job_level job_type  \n",
       "21503             Chemist  Mid senior   Onsite  \n",
       "49707           Recruiter  Mid senior   Onsite  \n",
       "168488          Recruiter   Associate   Onsite  \n",
       "208425  Controls Designer  Mid senior   Onsite  "
      ]
     },
     "execution_count": 15,
     "metadata": {},
     "output_type": "execute_result"
    }
   ],
   "source": [
    "df[df['job_location'].isnull()]"
   ]
  },
  {
   "cell_type": "markdown",
   "id": "a1518e17",
   "metadata": {},
   "source": [
    "We browse all jobs offered by the same company as the row with null value in `job_location` column."
   ]
  },
  {
   "cell_type": "code",
   "execution_count": 16,
   "id": "43585562",
   "metadata": {},
   "outputs": [],
   "source": [
    "boys_company_mask = df['company'] == 'Boys Town National Research Hospital'\n",
    "tactstaff_mask = df['company'] == 'TactStaff'\n",
    "adeline_mask = df['company'] == 'Adeline Search'\n",
    "gables_mask = df['company'] == 'Gables Search Group'"
   ]
  },
  {
   "cell_type": "code",
   "execution_count": 17,
   "id": "0dff9a4c",
   "metadata": {},
   "outputs": [
    {
     "data": {
      "text/html": [
       "<div>\n",
       "<style scoped>\n",
       "    .dataframe tbody tr th:only-of-type {\n",
       "        vertical-align: middle;\n",
       "    }\n",
       "\n",
       "    .dataframe tbody tr th {\n",
       "        vertical-align: top;\n",
       "    }\n",
       "\n",
       "    .dataframe thead th {\n",
       "        text-align: right;\n",
       "    }\n",
       "</style>\n",
       "<table border=\"1\" class=\"dataframe\">\n",
       "  <thead>\n",
       "    <tr style=\"text-align: right;\">\n",
       "      <th></th>\n",
       "      <th>job_link</th>\n",
       "      <th>last_processed_time</th>\n",
       "      <th>got_summary</th>\n",
       "      <th>got_ner</th>\n",
       "      <th>is_being_worked</th>\n",
       "      <th>job_title</th>\n",
       "      <th>company</th>\n",
       "      <th>job_location</th>\n",
       "      <th>first_seen</th>\n",
       "      <th>search_city</th>\n",
       "      <th>search_country</th>\n",
       "      <th>search_position</th>\n",
       "      <th>job_level</th>\n",
       "      <th>job_type</th>\n",
       "    </tr>\n",
       "  </thead>\n",
       "  <tbody>\n",
       "    <tr>\n",
       "      <th>21503</th>\n",
       "      <td>https://www.linkedin.com/jobs/view/research-sc...</td>\n",
       "      <td>2024-01-19 09:45:09.215838+00:00</td>\n",
       "      <td>t</td>\n",
       "      <td>t</td>\n",
       "      <td>False</td>\n",
       "      <td>Research Scientist I</td>\n",
       "      <td>Boys Town National Research Hospital</td>\n",
       "      <td>NaN</td>\n",
       "      <td>2024-01-12</td>\n",
       "      <td>Nebraska</td>\n",
       "      <td>United States</td>\n",
       "      <td>Chemist</td>\n",
       "      <td>Mid senior</td>\n",
       "      <td>Onsite</td>\n",
       "    </tr>\n",
       "    <tr>\n",
       "      <th>29115</th>\n",
       "      <td>https://www.linkedin.com/jobs/view/polysomnogr...</td>\n",
       "      <td>2024-01-20 03:03:43.082015+00:00</td>\n",
       "      <td>t</td>\n",
       "      <td>t</td>\n",
       "      <td>False</td>\n",
       "      <td>Polysomnographic Technologist (Nights)</td>\n",
       "      <td>Boys Town National Research Hospital</td>\n",
       "      <td>Omaha, NE</td>\n",
       "      <td>2024-01-16</td>\n",
       "      <td>Gretna</td>\n",
       "      <td>United States</td>\n",
       "      <td>Respiratory Therapist</td>\n",
       "      <td>Mid senior</td>\n",
       "      <td>Onsite</td>\n",
       "    </tr>\n",
       "    <tr>\n",
       "      <th>85134</th>\n",
       "      <td>https://www.linkedin.com/jobs/view/housekeepin...</td>\n",
       "      <td>2024-01-19 09:45:09.215838+00:00</td>\n",
       "      <td>t</td>\n",
       "      <td>t</td>\n",
       "      <td>False</td>\n",
       "      <td>Housekeeping-Hospital - Full Time</td>\n",
       "      <td>Boys Town National Research Hospital</td>\n",
       "      <td>Omaha, NE</td>\n",
       "      <td>2024-01-13</td>\n",
       "      <td>Nebraska</td>\n",
       "      <td>United States</td>\n",
       "      <td>Housekeeper</td>\n",
       "      <td>Mid senior</td>\n",
       "      <td>Onsite</td>\n",
       "    </tr>\n",
       "    <tr>\n",
       "      <th>177347</th>\n",
       "      <td>https://www.linkedin.com/jobs/view/ct-mri-tech...</td>\n",
       "      <td>2024-01-20 07:11:08.540317+00:00</td>\n",
       "      <td>t</td>\n",
       "      <td>t</td>\n",
       "      <td>False</td>\n",
       "      <td>CT/ MRI Technologist</td>\n",
       "      <td>Boys Town National Research Hospital</td>\n",
       "      <td>Omaha, NE</td>\n",
       "      <td>2024-01-14</td>\n",
       "      <td>Nebraska</td>\n",
       "      <td>United States</td>\n",
       "      <td>Scanner</td>\n",
       "      <td>Mid senior</td>\n",
       "      <td>Onsite</td>\n",
       "    </tr>\n",
       "    <tr>\n",
       "      <th>203941</th>\n",
       "      <td>https://www.linkedin.com/jobs/view/lpn-outpati...</td>\n",
       "      <td>2024-01-20 11:24:22.271385+00:00</td>\n",
       "      <td>t</td>\n",
       "      <td>t</td>\n",
       "      <td>False</td>\n",
       "      <td>LPN-Outpatient Child &amp; Adolescent Psychiatry C...</td>\n",
       "      <td>Boys Town National Research Hospital</td>\n",
       "      <td>Omaha, NE</td>\n",
       "      <td>2024-01-14</td>\n",
       "      <td>Gretna</td>\n",
       "      <td>United States</td>\n",
       "      <td>Nurse Licensed Practical</td>\n",
       "      <td>Mid senior</td>\n",
       "      <td>Onsite</td>\n",
       "    </tr>\n",
       "  </tbody>\n",
       "</table>\n",
       "</div>"
      ],
      "text/plain": [
       "                                                 job_link  \\\n",
       "21503   https://www.linkedin.com/jobs/view/research-sc...   \n",
       "29115   https://www.linkedin.com/jobs/view/polysomnogr...   \n",
       "85134   https://www.linkedin.com/jobs/view/housekeepin...   \n",
       "177347  https://www.linkedin.com/jobs/view/ct-mri-tech...   \n",
       "203941  https://www.linkedin.com/jobs/view/lpn-outpati...   \n",
       "\n",
       "                    last_processed_time got_summary got_ner  is_being_worked  \\\n",
       "21503  2024-01-19 09:45:09.215838+00:00           t       t            False   \n",
       "29115  2024-01-20 03:03:43.082015+00:00           t       t            False   \n",
       "85134  2024-01-19 09:45:09.215838+00:00           t       t            False   \n",
       "177347 2024-01-20 07:11:08.540317+00:00           t       t            False   \n",
       "203941 2024-01-20 11:24:22.271385+00:00           t       t            False   \n",
       "\n",
       "                                                job_title  \\\n",
       "21503                                Research Scientist I   \n",
       "29115              Polysomnographic Technologist (Nights)   \n",
       "85134                   Housekeeping-Hospital - Full Time   \n",
       "177347                               CT/ MRI Technologist   \n",
       "203941  LPN-Outpatient Child & Adolescent Psychiatry C...   \n",
       "\n",
       "                                     company job_location first_seen  \\\n",
       "21503   Boys Town National Research Hospital          NaN 2024-01-12   \n",
       "29115   Boys Town National Research Hospital    Omaha, NE 2024-01-16   \n",
       "85134   Boys Town National Research Hospital    Omaha, NE 2024-01-13   \n",
       "177347  Boys Town National Research Hospital    Omaha, NE 2024-01-14   \n",
       "203941  Boys Town National Research Hospital    Omaha, NE 2024-01-14   \n",
       "\n",
       "       search_city search_country           search_position   job_level  \\\n",
       "21503     Nebraska  United States                   Chemist  Mid senior   \n",
       "29115       Gretna  United States     Respiratory Therapist  Mid senior   \n",
       "85134     Nebraska  United States               Housekeeper  Mid senior   \n",
       "177347    Nebraska  United States                   Scanner  Mid senior   \n",
       "203941      Gretna  United States  Nurse Licensed Practical  Mid senior   \n",
       "\n",
       "       job_type  \n",
       "21503    Onsite  \n",
       "29115    Onsite  \n",
       "85134    Onsite  \n",
       "177347   Onsite  \n",
       "203941   Onsite  "
      ]
     },
     "execution_count": 17,
     "metadata": {},
     "output_type": "execute_result"
    }
   ],
   "source": [
    "df[boys_company_mask]"
   ]
  },
  {
   "cell_type": "markdown",
   "id": "f2fc456e",
   "metadata": {},
   "source": [
    "All jobs from that company is located at 'Omaha, NE'.\\\n",
    "In other words, 'Omaha, NE' is the **mode** for that criteria."
   ]
  },
  {
   "cell_type": "code",
   "execution_count": 18,
   "id": "65eeafb7",
   "metadata": {},
   "outputs": [
    {
     "data": {
      "text/html": [
       "<div>\n",
       "<style scoped>\n",
       "    .dataframe tbody tr th:only-of-type {\n",
       "        vertical-align: middle;\n",
       "    }\n",
       "\n",
       "    .dataframe tbody tr th {\n",
       "        vertical-align: top;\n",
       "    }\n",
       "\n",
       "    .dataframe thead th {\n",
       "        text-align: right;\n",
       "    }\n",
       "</style>\n",
       "<table border=\"1\" class=\"dataframe\">\n",
       "  <thead>\n",
       "    <tr style=\"text-align: right;\">\n",
       "      <th></th>\n",
       "      <th>job_link</th>\n",
       "      <th>last_processed_time</th>\n",
       "      <th>got_summary</th>\n",
       "      <th>got_ner</th>\n",
       "      <th>is_being_worked</th>\n",
       "      <th>job_title</th>\n",
       "      <th>company</th>\n",
       "      <th>job_location</th>\n",
       "      <th>first_seen</th>\n",
       "      <th>search_city</th>\n",
       "      <th>search_country</th>\n",
       "      <th>search_position</th>\n",
       "      <th>job_level</th>\n",
       "      <th>job_type</th>\n",
       "    </tr>\n",
       "  </thead>\n",
       "  <tbody>\n",
       "    <tr>\n",
       "      <th>21503</th>\n",
       "      <td>https://www.linkedin.com/jobs/view/research-sc...</td>\n",
       "      <td>2024-01-19 09:45:09.215838+00:00</td>\n",
       "      <td>t</td>\n",
       "      <td>t</td>\n",
       "      <td>False</td>\n",
       "      <td>Research Scientist I</td>\n",
       "      <td>Boys Town National Research Hospital</td>\n",
       "      <td>Omaha, NE</td>\n",
       "      <td>2024-01-12</td>\n",
       "      <td>Nebraska</td>\n",
       "      <td>United States</td>\n",
       "      <td>Chemist</td>\n",
       "      <td>Mid senior</td>\n",
       "      <td>Onsite</td>\n",
       "    </tr>\n",
       "    <tr>\n",
       "      <th>29115</th>\n",
       "      <td>https://www.linkedin.com/jobs/view/polysomnogr...</td>\n",
       "      <td>2024-01-20 03:03:43.082015+00:00</td>\n",
       "      <td>t</td>\n",
       "      <td>t</td>\n",
       "      <td>False</td>\n",
       "      <td>Polysomnographic Technologist (Nights)</td>\n",
       "      <td>Boys Town National Research Hospital</td>\n",
       "      <td>Omaha, NE</td>\n",
       "      <td>2024-01-16</td>\n",
       "      <td>Gretna</td>\n",
       "      <td>United States</td>\n",
       "      <td>Respiratory Therapist</td>\n",
       "      <td>Mid senior</td>\n",
       "      <td>Onsite</td>\n",
       "    </tr>\n",
       "    <tr>\n",
       "      <th>85134</th>\n",
       "      <td>https://www.linkedin.com/jobs/view/housekeepin...</td>\n",
       "      <td>2024-01-19 09:45:09.215838+00:00</td>\n",
       "      <td>t</td>\n",
       "      <td>t</td>\n",
       "      <td>False</td>\n",
       "      <td>Housekeeping-Hospital - Full Time</td>\n",
       "      <td>Boys Town National Research Hospital</td>\n",
       "      <td>Omaha, NE</td>\n",
       "      <td>2024-01-13</td>\n",
       "      <td>Nebraska</td>\n",
       "      <td>United States</td>\n",
       "      <td>Housekeeper</td>\n",
       "      <td>Mid senior</td>\n",
       "      <td>Onsite</td>\n",
       "    </tr>\n",
       "    <tr>\n",
       "      <th>177347</th>\n",
       "      <td>https://www.linkedin.com/jobs/view/ct-mri-tech...</td>\n",
       "      <td>2024-01-20 07:11:08.540317+00:00</td>\n",
       "      <td>t</td>\n",
       "      <td>t</td>\n",
       "      <td>False</td>\n",
       "      <td>CT/ MRI Technologist</td>\n",
       "      <td>Boys Town National Research Hospital</td>\n",
       "      <td>Omaha, NE</td>\n",
       "      <td>2024-01-14</td>\n",
       "      <td>Nebraska</td>\n",
       "      <td>United States</td>\n",
       "      <td>Scanner</td>\n",
       "      <td>Mid senior</td>\n",
       "      <td>Onsite</td>\n",
       "    </tr>\n",
       "    <tr>\n",
       "      <th>203941</th>\n",
       "      <td>https://www.linkedin.com/jobs/view/lpn-outpati...</td>\n",
       "      <td>2024-01-20 11:24:22.271385+00:00</td>\n",
       "      <td>t</td>\n",
       "      <td>t</td>\n",
       "      <td>False</td>\n",
       "      <td>LPN-Outpatient Child &amp; Adolescent Psychiatry C...</td>\n",
       "      <td>Boys Town National Research Hospital</td>\n",
       "      <td>Omaha, NE</td>\n",
       "      <td>2024-01-14</td>\n",
       "      <td>Gretna</td>\n",
       "      <td>United States</td>\n",
       "      <td>Nurse Licensed Practical</td>\n",
       "      <td>Mid senior</td>\n",
       "      <td>Onsite</td>\n",
       "    </tr>\n",
       "  </tbody>\n",
       "</table>\n",
       "</div>"
      ],
      "text/plain": [
       "                                                 job_link  \\\n",
       "21503   https://www.linkedin.com/jobs/view/research-sc...   \n",
       "29115   https://www.linkedin.com/jobs/view/polysomnogr...   \n",
       "85134   https://www.linkedin.com/jobs/view/housekeepin...   \n",
       "177347  https://www.linkedin.com/jobs/view/ct-mri-tech...   \n",
       "203941  https://www.linkedin.com/jobs/view/lpn-outpati...   \n",
       "\n",
       "                    last_processed_time got_summary got_ner  is_being_worked  \\\n",
       "21503  2024-01-19 09:45:09.215838+00:00           t       t            False   \n",
       "29115  2024-01-20 03:03:43.082015+00:00           t       t            False   \n",
       "85134  2024-01-19 09:45:09.215838+00:00           t       t            False   \n",
       "177347 2024-01-20 07:11:08.540317+00:00           t       t            False   \n",
       "203941 2024-01-20 11:24:22.271385+00:00           t       t            False   \n",
       "\n",
       "                                                job_title  \\\n",
       "21503                                Research Scientist I   \n",
       "29115              Polysomnographic Technologist (Nights)   \n",
       "85134                   Housekeeping-Hospital - Full Time   \n",
       "177347                               CT/ MRI Technologist   \n",
       "203941  LPN-Outpatient Child & Adolescent Psychiatry C...   \n",
       "\n",
       "                                     company job_location first_seen  \\\n",
       "21503   Boys Town National Research Hospital    Omaha, NE 2024-01-12   \n",
       "29115   Boys Town National Research Hospital    Omaha, NE 2024-01-16   \n",
       "85134   Boys Town National Research Hospital    Omaha, NE 2024-01-13   \n",
       "177347  Boys Town National Research Hospital    Omaha, NE 2024-01-14   \n",
       "203941  Boys Town National Research Hospital    Omaha, NE 2024-01-14   \n",
       "\n",
       "       search_city search_country           search_position   job_level  \\\n",
       "21503     Nebraska  United States                   Chemist  Mid senior   \n",
       "29115       Gretna  United States     Respiratory Therapist  Mid senior   \n",
       "85134     Nebraska  United States               Housekeeper  Mid senior   \n",
       "177347    Nebraska  United States                   Scanner  Mid senior   \n",
       "203941      Gretna  United States  Nurse Licensed Practical  Mid senior   \n",
       "\n",
       "       job_type  \n",
       "21503    Onsite  \n",
       "29115    Onsite  \n",
       "85134    Onsite  \n",
       "177347   Onsite  \n",
       "203941   Onsite  "
      ]
     },
     "execution_count": 18,
     "metadata": {},
     "output_type": "execute_result"
    }
   ],
   "source": [
    "df[boys_company_mask] = df[boys_company_mask].fillna('Omaha, NE')\n",
    "df[boys_company_mask]"
   ]
  },
  {
   "cell_type": "markdown",
   "id": "cb0a53c0",
   "metadata": {},
   "source": [
    "We repeat the same process for other jobs."
   ]
  },
  {
   "cell_type": "code",
   "execution_count": 19,
   "id": "e364f691",
   "metadata": {},
   "outputs": [
    {
     "data": {
      "text/plain": [
       "job_location\n",
       "Saratoga Springs, NY    2\n",
       "Albuquerque, NM         1\n",
       "Ste. Genevieve, MO      1\n",
       "Maumelle, AR            1\n",
       "Auburn, NY              1\n",
       "Chattanooga, TN         1\n",
       "Lima, OH                1\n",
       "Winston-Salem, NC       1\n",
       "Benson, AZ              1\n",
       "Manchester, CT          1\n",
       "Name: count, dtype: int64"
      ]
     },
     "execution_count": 19,
     "metadata": {},
     "output_type": "execute_result"
    }
   ],
   "source": [
    "df[tactstaff_mask]['job_location'].value_counts()"
   ]
  },
  {
   "cell_type": "code",
   "execution_count": 20,
   "id": "1bf18c5b",
   "metadata": {},
   "outputs": [
    {
     "data": {
      "text/html": [
       "<div>\n",
       "<style scoped>\n",
       "    .dataframe tbody tr th:only-of-type {\n",
       "        vertical-align: middle;\n",
       "    }\n",
       "\n",
       "    .dataframe tbody tr th {\n",
       "        vertical-align: top;\n",
       "    }\n",
       "\n",
       "    .dataframe thead th {\n",
       "        text-align: right;\n",
       "    }\n",
       "</style>\n",
       "<table border=\"1\" class=\"dataframe\">\n",
       "  <thead>\n",
       "    <tr style=\"text-align: right;\">\n",
       "      <th></th>\n",
       "      <th>job_link</th>\n",
       "      <th>last_processed_time</th>\n",
       "      <th>got_summary</th>\n",
       "      <th>got_ner</th>\n",
       "      <th>is_being_worked</th>\n",
       "      <th>job_title</th>\n",
       "      <th>company</th>\n",
       "      <th>job_location</th>\n",
       "      <th>first_seen</th>\n",
       "      <th>search_city</th>\n",
       "      <th>search_country</th>\n",
       "      <th>search_position</th>\n",
       "      <th>job_level</th>\n",
       "      <th>job_type</th>\n",
       "    </tr>\n",
       "  </thead>\n",
       "  <tbody>\n",
       "    <tr>\n",
       "      <th>18409</th>\n",
       "      <td>https://www.linkedin.com/jobs/view/travel-rn-o...</td>\n",
       "      <td>2024-01-20 10:53:32.747142+00:00</td>\n",
       "      <td>t</td>\n",
       "      <td>t</td>\n",
       "      <td>False</td>\n",
       "      <td>Travel RN - OR - Operating Room</td>\n",
       "      <td>TactStaff</td>\n",
       "      <td>Albuquerque, NM</td>\n",
       "      <td>2024-01-14</td>\n",
       "      <td>Albuquerque</td>\n",
       "      <td>United States</td>\n",
       "      <td>Recruiter</td>\n",
       "      <td>Mid senior</td>\n",
       "      <td>Onsite</td>\n",
       "    </tr>\n",
       "    <tr>\n",
       "      <th>23146</th>\n",
       "      <td>https://www.linkedin.com/jobs/view/travel-rn-m...</td>\n",
       "      <td>2024-01-20 08:43:27.175406+00:00</td>\n",
       "      <td>t</td>\n",
       "      <td>t</td>\n",
       "      <td>False</td>\n",
       "      <td>Travel RN - Med Surg</td>\n",
       "      <td>TactStaff</td>\n",
       "      <td>Ste. Genevieve, MO</td>\n",
       "      <td>2024-01-14</td>\n",
       "      <td>Kaskaskia</td>\n",
       "      <td>United States</td>\n",
       "      <td>Recruiter</td>\n",
       "      <td>Mid senior</td>\n",
       "      <td>Onsite</td>\n",
       "    </tr>\n",
       "    <tr>\n",
       "      <th>35655</th>\n",
       "      <td>https://www.linkedin.com/jobs/view/travel-rn-b...</td>\n",
       "      <td>2024-01-19 09:45:09.215838+00:00</td>\n",
       "      <td>t</td>\n",
       "      <td>t</td>\n",
       "      <td>False</td>\n",
       "      <td>Travel RN - Behavioral Health</td>\n",
       "      <td>TactStaff</td>\n",
       "      <td>Maumelle, AR</td>\n",
       "      <td>2024-01-12</td>\n",
       "      <td>Little Rock</td>\n",
       "      <td>United States</td>\n",
       "      <td>Christian Science Nurse</td>\n",
       "      <td>Mid senior</td>\n",
       "      <td>Onsite</td>\n",
       "    </tr>\n",
       "    <tr>\n",
       "      <th>49707</th>\n",
       "      <td>https://www.linkedin.com/jobs/view/travel-rn-c...</td>\n",
       "      <td>2024-01-21 05:44:29.161221+00:00</td>\n",
       "      <td>t</td>\n",
       "      <td>t</td>\n",
       "      <td>False</td>\n",
       "      <td>Travel RN - CVPICU</td>\n",
       "      <td>TactStaff</td>\n",
       "      <td>Saratoga Springs, NY</td>\n",
       "      <td>2024-01-14</td>\n",
       "      <td>West Memphis</td>\n",
       "      <td>United States</td>\n",
       "      <td>Recruiter</td>\n",
       "      <td>Mid senior</td>\n",
       "      <td>Onsite</td>\n",
       "    </tr>\n",
       "    <tr>\n",
       "      <th>84236</th>\n",
       "      <td>https://www.linkedin.com/jobs/view/travel-rn-l...</td>\n",
       "      <td>2024-01-20 14:13:57.824904+00:00</td>\n",
       "      <td>t</td>\n",
       "      <td>t</td>\n",
       "      <td>False</td>\n",
       "      <td>Travel RN - Labor and Delivery</td>\n",
       "      <td>TactStaff</td>\n",
       "      <td>Saratoga Springs, NY</td>\n",
       "      <td>2024-01-14</td>\n",
       "      <td>Glens Falls</td>\n",
       "      <td>United States</td>\n",
       "      <td>Recruiter</td>\n",
       "      <td>Mid senior</td>\n",
       "      <td>Onsite</td>\n",
       "    </tr>\n",
       "  </tbody>\n",
       "</table>\n",
       "</div>"
      ],
      "text/plain": [
       "                                                job_link  \\\n",
       "18409  https://www.linkedin.com/jobs/view/travel-rn-o...   \n",
       "23146  https://www.linkedin.com/jobs/view/travel-rn-m...   \n",
       "35655  https://www.linkedin.com/jobs/view/travel-rn-b...   \n",
       "49707  https://www.linkedin.com/jobs/view/travel-rn-c...   \n",
       "84236  https://www.linkedin.com/jobs/view/travel-rn-l...   \n",
       "\n",
       "                   last_processed_time got_summary got_ner  is_being_worked  \\\n",
       "18409 2024-01-20 10:53:32.747142+00:00           t       t            False   \n",
       "23146 2024-01-20 08:43:27.175406+00:00           t       t            False   \n",
       "35655 2024-01-19 09:45:09.215838+00:00           t       t            False   \n",
       "49707 2024-01-21 05:44:29.161221+00:00           t       t            False   \n",
       "84236 2024-01-20 14:13:57.824904+00:00           t       t            False   \n",
       "\n",
       "                             job_title    company          job_location  \\\n",
       "18409  Travel RN - OR - Operating Room  TactStaff       Albuquerque, NM   \n",
       "23146             Travel RN - Med Surg  TactStaff    Ste. Genevieve, MO   \n",
       "35655    Travel RN - Behavioral Health  TactStaff          Maumelle, AR   \n",
       "49707               Travel RN - CVPICU  TactStaff  Saratoga Springs, NY   \n",
       "84236   Travel RN - Labor and Delivery  TactStaff  Saratoga Springs, NY   \n",
       "\n",
       "      first_seen   search_city search_country          search_position  \\\n",
       "18409 2024-01-14   Albuquerque  United States                Recruiter   \n",
       "23146 2024-01-14     Kaskaskia  United States                Recruiter   \n",
       "35655 2024-01-12   Little Rock  United States  Christian Science Nurse   \n",
       "49707 2024-01-14  West Memphis  United States                Recruiter   \n",
       "84236 2024-01-14   Glens Falls  United States                Recruiter   \n",
       "\n",
       "        job_level job_type  \n",
       "18409  Mid senior   Onsite  \n",
       "23146  Mid senior   Onsite  \n",
       "35655  Mid senior   Onsite  \n",
       "49707  Mid senior   Onsite  \n",
       "84236  Mid senior   Onsite  "
      ]
     },
     "execution_count": 20,
     "metadata": {},
     "output_type": "execute_result"
    }
   ],
   "source": [
    "tactstaff_mode = df[tactstaff_mask]['job_location'].value_counts().index[0]\n",
    "df[tactstaff_mask]= df[tactstaff_mask].fillna(tactstaff_mode)\n",
    "df[tactstaff_mask].head()"
   ]
  },
  {
   "cell_type": "code",
   "execution_count": 21,
   "id": "a8f9a07f",
   "metadata": {},
   "outputs": [
    {
     "data": {
      "text/html": [
       "<div>\n",
       "<style scoped>\n",
       "    .dataframe tbody tr th:only-of-type {\n",
       "        vertical-align: middle;\n",
       "    }\n",
       "\n",
       "    .dataframe tbody tr th {\n",
       "        vertical-align: top;\n",
       "    }\n",
       "\n",
       "    .dataframe thead th {\n",
       "        text-align: right;\n",
       "    }\n",
       "</style>\n",
       "<table border=\"1\" class=\"dataframe\">\n",
       "  <thead>\n",
       "    <tr style=\"text-align: right;\">\n",
       "      <th></th>\n",
       "      <th>job_link</th>\n",
       "      <th>last_processed_time</th>\n",
       "      <th>got_summary</th>\n",
       "      <th>got_ner</th>\n",
       "      <th>is_being_worked</th>\n",
       "      <th>job_title</th>\n",
       "      <th>company</th>\n",
       "      <th>job_location</th>\n",
       "      <th>first_seen</th>\n",
       "      <th>search_city</th>\n",
       "      <th>search_country</th>\n",
       "      <th>search_position</th>\n",
       "      <th>job_level</th>\n",
       "      <th>job_type</th>\n",
       "    </tr>\n",
       "  </thead>\n",
       "  <tbody>\n",
       "    <tr>\n",
       "      <th>168488</th>\n",
       "      <td>https://uk.linkedin.com/jobs/view/recruitment-...</td>\n",
       "      <td>2024-01-20 16:30:08.517081+00:00</td>\n",
       "      <td>t</td>\n",
       "      <td>t</td>\n",
       "      <td>False</td>\n",
       "      <td>Recruitment Resourcer</td>\n",
       "      <td>Adeline Search</td>\n",
       "      <td>NaN</td>\n",
       "      <td>2024-01-14</td>\n",
       "      <td>Warrington</td>\n",
       "      <td>United Kingdom</td>\n",
       "      <td>Recruiter</td>\n",
       "      <td>Associate</td>\n",
       "      <td>Onsite</td>\n",
       "    </tr>\n",
       "  </tbody>\n",
       "</table>\n",
       "</div>"
      ],
      "text/plain": [
       "                                                 job_link  \\\n",
       "168488  https://uk.linkedin.com/jobs/view/recruitment-...   \n",
       "\n",
       "                    last_processed_time got_summary got_ner  is_being_worked  \\\n",
       "168488 2024-01-20 16:30:08.517081+00:00           t       t            False   \n",
       "\n",
       "                    job_title         company job_location first_seen  \\\n",
       "168488  Recruitment Resourcer  Adeline Search          NaN 2024-01-14   \n",
       "\n",
       "       search_city  search_country search_position  job_level job_type  \n",
       "168488  Warrington  United Kingdom       Recruiter  Associate   Onsite  "
      ]
     },
     "execution_count": 21,
     "metadata": {},
     "output_type": "execute_result"
    }
   ],
   "source": [
    "df[adeline_mask]"
   ]
  },
  {
   "cell_type": "code",
   "execution_count": 22,
   "id": "fad63534",
   "metadata": {},
   "outputs": [],
   "source": [
    "df.drop(168488, inplace=True)"
   ]
  },
  {
   "cell_type": "code",
   "execution_count": 23,
   "id": "346c5e7e",
   "metadata": {},
   "outputs": [
    {
     "name": "stderr",
     "output_type": "stream",
     "text": [
      "C:\\Users\\Yaser\\AppData\\Local\\Temp\\ipykernel_3120\\1964734965.py:1: UserWarning: Boolean Series key will be reindexed to match DataFrame index.\n",
      "  df[gables_mask]['job_location'].value_counts()\n"
     ]
    },
    {
     "data": {
      "text/plain": [
       "job_location\n",
       "Los Angeles, CA      6\n",
       "Atlanta, GA          4\n",
       "Oklahoma City, OK    4\n",
       "Columbus, OH         4\n",
       "Irvine, CA           3\n",
       "                    ..\n",
       "Lawrenceville, GA    1\n",
       "Tulsa, OK            1\n",
       "Sacramento, CA       1\n",
       "Bridgeport, CT       1\n",
       "Green Bay, WI        1\n",
       "Name: count, Length: 107, dtype: int64"
      ]
     },
     "execution_count": 23,
     "metadata": {},
     "output_type": "execute_result"
    }
   ],
   "source": [
    "df[gables_mask]['job_location'].value_counts()"
   ]
  },
  {
   "cell_type": "code",
   "execution_count": 24,
   "id": "2e68cad7",
   "metadata": {},
   "outputs": [
    {
     "name": "stderr",
     "output_type": "stream",
     "text": [
      "C:\\Users\\Yaser\\AppData\\Local\\Temp\\ipykernel_3120\\3531824366.py:1: UserWarning: Boolean Series key will be reindexed to match DataFrame index.\n",
      "  gables_mode = df[gables_mask]['job_location'].value_counts().index[0]\n"
     ]
    },
    {
     "data": {
      "text/html": [
       "<div>\n",
       "<style scoped>\n",
       "    .dataframe tbody tr th:only-of-type {\n",
       "        vertical-align: middle;\n",
       "    }\n",
       "\n",
       "    .dataframe tbody tr th {\n",
       "        vertical-align: top;\n",
       "    }\n",
       "\n",
       "    .dataframe thead th {\n",
       "        text-align: right;\n",
       "    }\n",
       "</style>\n",
       "<table border=\"1\" class=\"dataframe\">\n",
       "  <thead>\n",
       "    <tr style=\"text-align: right;\">\n",
       "      <th></th>\n",
       "      <th>job_link</th>\n",
       "      <th>last_processed_time</th>\n",
       "      <th>got_summary</th>\n",
       "      <th>got_ner</th>\n",
       "      <th>is_being_worked</th>\n",
       "      <th>job_title</th>\n",
       "      <th>company</th>\n",
       "      <th>job_location</th>\n",
       "      <th>first_seen</th>\n",
       "      <th>search_city</th>\n",
       "      <th>search_country</th>\n",
       "      <th>search_position</th>\n",
       "      <th>job_level</th>\n",
       "      <th>job_type</th>\n",
       "    </tr>\n",
       "  </thead>\n",
       "  <tbody>\n",
       "    <tr>\n",
       "      <th>208425</th>\n",
       "      <td>https://www.linkedin.com/jobs/view/controls-en...</td>\n",
       "      <td>2024-01-19 09:45:09.215838+00:00</td>\n",
       "      <td>t</td>\n",
       "      <td>t</td>\n",
       "      <td>False</td>\n",
       "      <td>Controls Engineer</td>\n",
       "      <td>Gables Search Group</td>\n",
       "      <td>Los Angeles, CA</td>\n",
       "      <td>2024-01-13</td>\n",
       "      <td>New Albany</td>\n",
       "      <td>United States</td>\n",
       "      <td>Controls Designer</td>\n",
       "      <td>Mid senior</td>\n",
       "      <td>Onsite</td>\n",
       "    </tr>\n",
       "  </tbody>\n",
       "</table>\n",
       "</div>"
      ],
      "text/plain": [
       "                                                 job_link  \\\n",
       "208425  https://www.linkedin.com/jobs/view/controls-en...   \n",
       "\n",
       "                    last_processed_time got_summary got_ner  is_being_worked  \\\n",
       "208425 2024-01-19 09:45:09.215838+00:00           t       t            False   \n",
       "\n",
       "                job_title              company     job_location first_seen  \\\n",
       "208425  Controls Engineer  Gables Search Group  Los Angeles, CA 2024-01-13   \n",
       "\n",
       "       search_city search_country    search_position   job_level job_type  \n",
       "208425  New Albany  United States  Controls Designer  Mid senior   Onsite  "
      ]
     },
     "execution_count": 24,
     "metadata": {},
     "output_type": "execute_result"
    }
   ],
   "source": [
    "gables_mode = df[gables_mask]['job_location'].value_counts().index[0]\n",
    "df.loc[gables_mask,'job_location'] = df.loc[gables_mask,'job_location'].fillna(gables_mode)\n",
    "df[df.index==208425]"
   ]
  },
  {
   "cell_type": "code",
   "execution_count": 25,
   "id": "5e53c4d7",
   "metadata": {},
   "outputs": [
    {
     "name": "stdout",
     "output_type": "stream",
     "text": [
      "<class 'pandas.core.frame.DataFrame'>\n",
      "Index: 249998 entries, 0 to 249999\n",
      "Data columns (total 14 columns):\n",
      " #   Column               Non-Null Count   Dtype              \n",
      "---  ------               --------------   -----              \n",
      " 0   job_link             249998 non-null  object             \n",
      " 1   last_processed_time  249998 non-null  datetime64[ns, UTC]\n",
      " 2   got_summary          249998 non-null  object             \n",
      " 3   got_ner              249998 non-null  object             \n",
      " 4   is_being_worked      249998 non-null  bool               \n",
      " 5   job_title            249998 non-null  object             \n",
      " 6   company              249998 non-null  object             \n",
      " 7   job_location         249998 non-null  object             \n",
      " 8   first_seen           249998 non-null  datetime64[ns]     \n",
      " 9   search_city          249998 non-null  object             \n",
      " 10  search_country       249998 non-null  object             \n",
      " 11  search_position      249998 non-null  object             \n",
      " 12  job_level            249998 non-null  object             \n",
      " 13  job_type             249998 non-null  object             \n",
      "dtypes: bool(1), datetime64[ns, UTC](1), datetime64[ns](1), object(11)\n",
      "memory usage: 26.9+ MB\n"
     ]
    }
   ],
   "source": [
    "df.info()"
   ]
  },
  {
   "cell_type": "code",
   "execution_count": null,
   "id": "a5104362",
   "metadata": {},
   "outputs": [],
   "source": [
    "## DATA EXPLORATION SOON"
   ]
  }
 ],
 "metadata": {
  "kernelspec": {
   "display_name": "Python 3 (ipykernel)",
   "language": "python",
   "name": "python3"
  },
  "language_info": {
   "codemirror_mode": {
    "name": "ipython",
    "version": 3
   },
   "file_extension": ".py",
   "mimetype": "text/x-python",
   "name": "python",
   "nbconvert_exporter": "python",
   "pygments_lexer": "ipython3",
   "version": "3.9.18"
  }
 },
 "nbformat": 4,
 "nbformat_minor": 5
}
